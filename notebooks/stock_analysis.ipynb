{
 "cells": [
  {
   "cell_type": "code",
   "execution_count": null,
   "metadata": {
    "vscode": {
     "languageId": "plaintext"
    }
   },
   "outputs": [],
   "source": [
    "# Jupyter Notebook Contents\n",
    "import pandas as pd\n",
    "import matplotlib.pyplot as plt\n",
    "from src.data_loader import download_data, load_data\n",
    "from src.predict import predict_stock\n",
    "\n",
    "# Download data\n",
    "download_data()\n",
    "\n",
    "# Example analysis for CELH\n",
    "celh = load_data('CELH')\n",
    "predictions = predict_stock('CELH')\n",
    "\n",
    "# Visualization\n",
    "plt.figure(figsize=(12,6))\n",
    "plt.plot(celh['Close'][-100:], label='Historical')\n",
    "plt.plot(predictions['Ensemble'], label='30D Forecast')\n",
    "plt.title('CELH Price Prediction')\n",
    "plt.legend()\n",
    "plt.show()"
   ]
  }
 ],
 "metadata": {
  "language_info": {
   "name": "python"
  }
 },
 "nbformat": 4,
 "nbformat_minor": 2
}
